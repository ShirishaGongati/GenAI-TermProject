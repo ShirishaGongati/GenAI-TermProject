{
 "cells": [
  {
   "cell_type": "markdown",
   "metadata": {},
   "source": [
    "# Checkpoint 1 – Manual Prompt Demo\n",
    "## Project: Automating Software Test Case Creation with Generative AI\n",
    "\n",
    "This notebook shows how we can take **plain-language test scenarios** and turn them into **structured test cases** using prompt templates.\n",
    "\n",
    "**Course:** GenAI App Rapid Prototyping  \n",
    "**Student:** Shirisha Gongati  \n",
    "**Repo:** https://github.com/ShirishaGongati/GenAI-TermProject\n"
   ]
  },
  {
   "cell_type": "markdown",
   "metadata": {},
   "source": [
    "## 1. Problem statement\n",
    "Writing software test cases manually takes time and is often inconsistent across testers. We want a GenAI helper that can:\n",
    "1. Read a short English scenario (e.g. *\"Verify login with invalid password\"*),\n",
    "2. Output a structured test case with **objective, preconditions, steps, test data, expected result**, and\n",
    "3. Keep the same format every time, so it can later be automated (Selenium / PyTest).\n",
    "\n",
    "This notebook demonstrates that the idea is **feasible** using manual prompts (as required in Checkpoint 1)."
   ]
  },
  {
   "cell_type": "markdown",
   "metadata": {},
   "source": [
    "## 2. Baseline manual prompts (v1)\n",
    "These are the first prompts we tried.\n",
    "\n",
    "**Prompt v1 – positive login**\n",
    "> \"Generate a manual test case to verify login functionality for a web application with username and password fields. Include objective, preconditions, test steps, and expected result.\"\n",
    "\n",
    "**Prompt v1 – negative login**\n",
    "> \"Create a negative test case for login when an incorrect password is entered. Include error message validation.\"\n",
    "\n",
    "Problem with v1: output can be chatty and not always the same structure. So we improved the prompts."
   ]
  },
  {
   "cell_type": "markdown",
   "metadata": {},
   "source": [
    "## 3. Improved prompts (v2)\n",
    "We now **force JSON** and **fix the fields**.\n",
    "\n",
    "**Prompt v2 – positive**  \n",
    "> \"You are a QA test-case generator. Create 1 positive test case for 'Login with valid credentials'. Output in JSON with fields: `test_id`, `title`, `objective`, `preconditions`, `test_steps`, `test_data`, `expected_result`. Keep it concise.\"\n",
    "\n",
    "**Prompt v2 – negative**  \n",
    "> \"Generate 1 negative test case in the same JSON format for 'Login with invalid password'. Add a field `validation_points` listing what must be verified.\"\n",
    "\n",
    "We will now simulate the model outputs below."
   ]
  },
  {
   "cell_type": "code",
   "execution_count": 1,
   "metadata": {},
   "outputs": [],
   "source": [
    \"\"\"\n",
    "Utility: in this notebook we *simulate* the LLM output so the instructor can see\n",
    "the intended structure even without calling an API.\n",
    "\"\"\"\n",
    "from pprint import pprint\n"
   ]
  },
  {
   "cell_type": "markdown",
   "metadata": {},
   "source": [
    "## 4. Simulated LLM output for positive login\n",
    "This is what we expect from Prompt v2 (positive)."
   ]
  },
  {
   "cell_type": "code",
   "execution_count": 2,
   "metadata": {},
   "outputs": [
    {
     "name": "stdout",
     "output_type": "stream",
     "text": [
      "{'expected_result': \"User is redirected to the secure area and sees the message \\\\n",
      "                    'You logged into a secure area!'\",\n",
      " 'objective': 'Verify that a registered user can log in successfully.',\n",
      " 'preconditions': [\"Valid user account exists with username='tomsmith', \"\n",
      "                   \"password='SuperSecretPassword!'\"],\n",
      " 'test_data': {'password': 'SuperSecretPassword!', 'username': 'tomsmith'},\n",
      " 'test_id': 'TC_LOGIN_001',\n",
      " 'test_steps': ['1. Navigate to https://the-internet.herokuapp.com/login',\n",
      "                \"2. Enter username 'tomsmith'\",\n",
      "                \"3. Enter password 'SuperSecretPassword!'\",\n",
      "                \"4. Click the Login button\"],\n",
      " 'title': 'Login with valid credentials'}\n"
     ]
    }
   ],
   "source": [
    "positive_testcase = {\n",
    "    \"test_id\": \"TC_LOGIN_001\",\n",
    "    \"title\": \"Login with valid credentials\",\n",
    "    \"objective\": \"Verify that a registered user can log in successfully.\",\n",
    "    \"preconditions\": [\n",
    "        \"Valid user account exists with username='tomsmith', password='SuperSecretPassword!'\"\n",
    "    ],\n",
    "    \"test_steps\": [\n",
    "        \"1. Navigate to https://the-internet.herokuapp.com/login\",\n",
    "        \"2. Enter username 'tomsmith'\",\n",
    "        \"3. Enter password 'SuperSecretPassword!'\",\n",
    "        \"4. Click the Login button\"\n",
    "    ],\n",
    "    \"test_data\": {\n",
    "        \"username\": \"tomsmith\",\n",
    "        \"password\": \"SuperSecretPassword!\"\n",
    "    },\n",
    "    \"expected_result\": \"User is redirected to the secure area and sees the message 'You logged into a secure area!'\"\n",
    "}\n",
    "\n",
    "pprint(positive_testcase)\n"
   ]
  },
  {
   "cell_type": "markdown",
   "metadata": {},
   "source": [
    "## 5. Simulated LLM output for negative login\n",
    "This one shows validation points too (to prove it’s useful for QA)."
   ]
  },
  {
   "cell_type": "code",
   "execution_count": 3,
   "metadata": {},
   "outputs": [
    {
     "name": "stdout",
     "output_type": "stream",
     "text": [
      "{'expected_result': 'System displays an error and remains on the login page.',\n",
      " 'objective': 'Verify that the system rejects invalid login attempts.',\n",
      " 'preconditions': [\"User account exists: username='tomsmith'\"],\n",
      " 'test_data': {'password': 'wrongpass', 'username': 'tomsmith'},\n",
      " 'test_id': 'TC_LOGIN_002',\n",
      " 'test_steps': ['1. Navigate to https://the-internet.herokuapp.com/login',\n",
      "                \"2. Enter username 'tomsmith'\",\n",
      "                \"3. Enter password 'wrongpass'\",\n",
      "                \"4. Click the Login button\"],\n",
      " 'title': 'Login with invalid password',\n",
      " 'validation_points': ['Error banner visible',\n",
      "                      \"Banner text contains 'Your password is invalid!'\",\n",
      "                      'URL still ends with /login']}\n"
     ]
    }
   ],
   "source": [
    "negative_testcase = {\n",
    "    \"test_id\": \"TC_LOGIN_002\",\n",
    "    \"title\": \"Login with invalid password\",\n",
    "    \"objective\": \"Verify that the system rejects invalid login attempts.\",\n",
    "    \"preconditions\": [\n",
    "        \"User account exists: username='tomsmith'\"\n",
    "    ],\n",
    "    \"test_steps\": [\n",
    "        \"1. Navigate to https://the-internet.herokuapp.com/login\",\n",
    "        \"2. Enter username 'tomsmith'\",\n",
    "        \"3. Enter password 'wrongpass'\",\n",
    "        \"4. Click the Login button\"\n",
    "    ],\n",
    "    \"test_data\": {\n",
    "        \"username\": \"tomsmith\",\n",
    "        \"password\": \"wrongpass\"\n",
    "    },\n",
    "    \"expected_result\": \"System displays an error and remains on the login page.\",\n",
    "    \"validation_points\": [\n",
    "        \"Error banner visible\",\n",
    "        \"Banner text contains 'Your password is invalid!'\",\n",
    "        \"URL still ends with /login\"\n",
    "    ]\n",
    "}\n",
    "\n",
    "pprint(negative_testcase)\n"
   ]
  },
  {
   "cell_type": "markdown",
   "metadata": {},
   "source": [
    "## 6. Automation-friendly conversion\n",
    "In the assignment they want to see that this can later be automated. So we map the same test case to Selenium-like steps."
   ]
  },
  {
   "cell_type": "code",
   "execution_count": 4,
   "metadata": {},
   "outputs": [
    {
     "name": "stdout",
     "output_type": "stream",
     "text": [
      "[{'steps': [{'action': 'get',\n",
      "             'data': 'https://the-internet.herokuapp.com/login',\n",
      "             'locator_type': None,\n",
      "             'locator_value': None},\n",
      "            {'action': 'type',\n",
      "             'data': 'tomsmith',\n",
      "             'locator_type': 'id',\n",
      "             'locator_value': 'username'},\n",
      "            {'action': 'type',\n",
      "             'data': 'SuperSecretPassword!',\n",
      "             'locator_type': 'id',\n",
      "             'locator_value': 'password'},\n",
      "            {'action': 'click',\n",
      "             'data': None,\n",
      "             'locator_type': 'css',\n",
      "             'locator_value': \"button[type='submit']\"},\n",
      "            {'action': 'assert_text_contains',\n",
      "             'data': 'You logged into a secure area!',\n",
      "             'locator_type': 'id',\n",
      "             'locator_value': 'flash'}],\n",
      "  'test_id': 'TC_LOGIN_001'}]\n"
     ]
    }
   ],
   "source": [
    "selenium_steps = [\n",
    "    {\n",
    "        \"test_id\": positive_testcase[\"test_id\"],\n",
    "        \"steps\": [\n",
    "            {\"action\": \"get\", \"locator_type\": None, \"locator_value\": None, \"data\": \"https://the-internet.herokuapp.com/login\"},\n",
    "            {\"action\": \"type\", \"locator_type\": \"id\", \"locator_value\": \"username\", \"data\": positive_testcase[\"test_data\"][\"username\"]},\n",
    "            {\"action\": \"type\", \"locator_type\": \"id\", \"locator_value\": \"password\", \"data\": positive_testcase[\"test_data\"][\"password\"]},\n",
    "            {\"action\": \"click\", \"locator_type\": \"css\", \"locator_value\": \"button[type='submit']\", \"data\": None},\n",
    "            {\"action\": \"assert_text_contains\", \"locator_type\": \"id\", \"locator_value\": \"flash\", \"data\": \"You logged into a secure area!\"}\n",
    "        ]\n",
    "    }\n",
    "]\n",
    "\n",
    "pprint(selenium_steps)\n"
   ]
  },
  {
   "cell_type": "markdown",
   "metadata": {},
   "source": [
    "## 7. Acceptance criteria (for Checkpoint 1)\n",
    "\n",
    "We consider the output **correct** if:\n",
    "1. Output is in the requested JSON/table format.\n",
    "2. It contains: objective, preconditions, steps, expected result.\n",
    "3. Steps are numbered and executable.\n",
    "4. Each test has a unique `test_id`.\n",
    "5. Negative tests include validation points.\n",
    "6. The same schema is reused across prompts (proves feasibility)."
   ]
  },
  {
   "cell_type": "code",
   "execution_count": 5,
   "metadata": {},
   "outputs": [
    {
     "name": "stdout",
     "output_type": "stream",
     "text": [
      "ACCEPTANCE CRITERIA:\n",
      "1. Structured: JSON with fixed fields\n",
      "2. Complete: objective, preconditions, steps, expected_result\n",
      "3. Actionable: numbered steps\n",
      "4. Traceable: test_id present\n",
      "5. Negative cases: validation_points present\n",
      "6. Reusable: same schema across prompts\n"
     ]
    }
   ],
   "source": [
    "print(\"ACCEPTANCE CRITERIA:\")\n",
    "print(\"1. Structured: JSON with fixed fields\")\n",
    "print(\"2. Complete: objective, preconditions, steps, expected_result\")\n",
    "print(\"3. Actionable: numbered steps\")\n",
    "print(\"4. Traceable: test_id present\")\n",
    "print(\"5. Negative cases: validation_points present\")\n",
    "print(\"6. Reusable: same schema across prompts\")\n"
   ]
  },
  {
   "cell_type": "markdown",
   "metadata": {},
   "source": [
    "## 8. Summary for instructor\n",
    "- Scenarios are in `/requirements/` (login positive, login negative)\n",
    "- Generated test cases are in `/testcases/` (TC_LOGIN_001.json, TC_LOGIN_002.json)\n",
    "- This notebook shows the **manual prompts** and **intended outputs** → which is exactly what Checkpoint 1 asked for.\n",
    "- Next step (Checkpoint 2): call the model/API and save outputs automatically.\n"
   ]
  }
 ],
 "metadata": {
  "kernelspec": {
   "display_name": "Python 3",
   "language": "python",
   "name": "python3"
  },
  "language_info": {
   "name": "python",
   "version": "3.11"
  }
 },
 "nbformat": 4,
 "nbformat_minor": 5
}

