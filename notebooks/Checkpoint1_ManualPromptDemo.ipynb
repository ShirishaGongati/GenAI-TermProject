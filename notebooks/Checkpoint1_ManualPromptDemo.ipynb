{
 "cells": [
  {
   "cell_type": "markdown",
   "metadata": {},
   "source": [
    "# Checkpoint 1 – Manual Prompt Demo\n",
    "## Project: Automating Software Test Case Creation with Generative AI\n",
    "\n",
    "This notebook demonstrates how plain-language test scenarios can be turned into structured test cases using generative AI prompts.\n",
    "\n",
    "**Course:** GenAI App Rapid Prototyping  \n",
    "**Student:** Shirisha Gongati  \n",
    "**Repo:** https://github.com/ShirishaGongati/GenAI-TermProject\n"
   ]
  },
  {
   "cell_type": "markdown",
   "metadata": {},
   "source": [
    "### Problem Statement\n",
    "Creating software test cases manually is time-consuming. This project explores whether large language models (LLMs) can automate the generation of consistent and structured test cases from natural-language requirements."
   ]
  },
  {
   "cell_type": "markdown",
   "metadata": {},
   "source": [
    "### Manual Prompts (v2)\n",
    "**Prompt 1 – Positive Login Scenario**  \n",
    "> You are a QA test-case generator. Create one positive test case for 'Login with valid credentials'. Output in JSON with fields: test_id, title, objective, preconditions, test_steps, test_data, expected_result.\n",
    "\n",
    "**Prompt 2 – Negative Login Scenario**  \n",
    "> Generate one negative test case in the same JSON format for 'Login with invalid password'. Add a field validation_points listing what must be verified."
   ]
  },
  {
   "cell_type": "code",
   "metadata": {},
   "outputs": [],
   "source": [
    "positive_testcase = {\n",
    "    \"test_id\": \"TC_LOGIN_001\",\n",
    "    \"title\": \"Login with valid credentials\",\n",
    "    \"objective\": \"Verify that a registered user can log in successfully.\",\n",
    "    \"preconditions\": [\"Valid user account exists with username='tomsmith', password='SuperSecretPassword!'\"] ,\n",
    "    \"test_steps\": [\n",
    "        \"1. Navigate to https://the-internet.herokuapp.com/login\",\n",
    "        \"2. Enter username 'tomsmith'\",\n",
    "        \"3. Enter password 'SuperSecretPassword!'\",\n",
    "        \"4. Click the Login button\"\n",
    "    ],\n",
    "    \"test_data\": {\"username\": \"tomsmith\", \"password\": \"SuperSecretPassword!\"},\n",
    "    \"expected_result\": \"User is redirected to the secure area and sees 'You logged into a secure area!'\"\n",
    "}\n",
    "positive_testcase"
   ]
  },
  {
   "cell_type": "code",
   "metadata": {},
   "outputs": [],
   "source": [
    "negative_testcase = {\n",
    "    \"test_id\": \"TC_LOGIN_002\",\n",
    "    \"title\": \"Login with invalid password\",\n",
    "    \"objective\": \"Verify that the system rejects invalid login attempts.\",\n",
    "    \"preconditions\": [\"User account exists: username='tomsmith'\"],\n",
    "    \"test_steps\": [\n",
    "        \"1. Navigate to https://the-internet.herokuapp.com/login\",\n",
    "        \"2. Enter username 'tomsmith'\",\n",
    "        \"3. Enter password 'wrongpass'\",\n",
    "        \"4. Click the Login button\"\n",
    "    ],\n",
    "    \"test_data\": {\"username\": \"tomsmith\", \"password\": \"wrongpass\"},\n",
    "    \"expected_result\": \"System displays an error and remains on the login page.\",\n",
    "    \"validation_points\": [\n",
    "        \"Error banner visible\",\n",
    "        \"Banner text contains 'Your password is invalid!'\",\n",
    "        \"URL still ends with /login\"\n",
    "    ]\n",
    "}\n",
    "negative_testcase"
   ]
  },
  {
   "cell_type": "markdown",
   "metadata": {},
   "source": [
    "### Acceptance Criteria\n",
    "1. Output follows JSON format with fixed fields.\n",
    "2. Each case includes objective, preconditions, steps, and expected result.\n",
    "3. Steps are clear and numbered.\n",
    "4. Each test has a unique test_id.\n",
    "5. Negative cases contain validation points.\n",
    "6. Output structure remains consistent (proves feasibility)."
   ]
  }
 ],
 "metadata": {
  "kernelspec": {"display_name": "Python 3", "language": "python", "name": "python3"},
  "language_info": {"name": "python", "version": "3.11"}
 },
 "nbformat": 4,
 "nbformat_minor": 5
}
